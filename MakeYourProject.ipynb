{
 "cells": [
  {
   "cell_type": "markdown",
   "metadata": {},
   "source": [
    "본 코드는 자신의 프로젝트 파일을 손쉽게 생성할 수 있도록 새롭게 구성한 툴입니다.\n",
    "\n",
    "CUSTOM_NAME에 자신이 원하는 프로젝트 파일명을 입력하세요.\n",
    "\n",
    "입력하지 않으면 타인의 프로젝트를 덮어써서 삭제시킬 수 있으므로, 반드시 수정 후 Run 하세요!"
   ]
  },
  {
   "cell_type": "code",
   "execution_count": 1,
   "metadata": {},
   "outputs": [],
   "source": [
    "PLATFORM = 'CW308_STM32F3'\n",
    "CUSTOM_NAME = 'AES_RE' # 이 부분을 반드시 자신의 이름으로 수정하세요! 다른 사람의 프로젝트가 손실됩니다.\n",
    "\n",
    "if PLATFORM == 'CW308_XMEGA' or PLATFORM == 'CWLITEXMEGA':\n",
    "    HAL = 'xmega'\n",
    "elif PLATFORM == 'CW308_STM32F4':\n",
    "    HAL = 'stm32f4'\n",
    "elif PLATFORM == 'CW308_STM32F3':\n",
    "    HAL = 'stm32f3'"
   ]
  },
  {
   "cell_type": "markdown",
   "metadata": {},
   "source": [
    "이제, 당신의 폴더로 프로젝트에 필요한 데이터를 복사합니다."
   ]
  },
  {
   "cell_type": "code",
   "execution_count": 2,
   "metadata": {},
   "outputs": [
    {
     "name": "stdout",
     "output_type": "stream",
     "text": [
      "AES_RE:\n",
      "total 56\n",
      "drwxr-xr-x  6 vagrant vagrant  4096 Mar 25 01:57 .\n",
      "drwxr-xr-x 18 vagrant vagrant  4096 Mar 25 01:57 ..\n",
      "drwxr-xr-x  2 vagrant vagrant  4096 Mar 25 01:57 Base\n",
      "-rw-r--r--  1 vagrant vagrant 14482 Mar 25 01:57 Collect_Trace.ipynb\n",
      "drwxr-xr-x  2 vagrant vagrant  4096 Mar 25 01:57 crypto\n",
      "drwxr-xr-x  3 vagrant vagrant  4096 Mar 25 01:57 hal\n",
      "-rw-r--r--  1 vagrant vagrant 16152 Mar 25 01:57 Makefile.inc\n",
      "drwxr-xr-x  2 vagrant vagrant  4096 Mar 25 01:57 simpleserial\n",
      "\n",
      "AES_RE/Base:\n",
      "total 16\n",
      "drwxr-xr-x 2 vagrant vagrant 4096 Mar 25 01:57 .\n",
      "drwxr-xr-x 6 vagrant vagrant 4096 Mar 25 01:57 ..\n",
      "-rw-r--r-- 1 vagrant vagrant 1576 Mar 25 01:57 makefile\n",
      "-rw-r--r-- 1 vagrant vagrant 2001 Mar 25 01:57 simpleserial-base.c\n"
     ]
    }
   ],
   "source": [
    "%%bash -s \"$CUSTOM_NAME\" \"$HAL\"\n",
    "rm -rf $1\n",
    "mkdir $1\n",
    "mkdir $1/hal\n",
    "mkdir $1/crypto\n",
    "cp /home/vagrant/work/projects/chipwhisperer/hardware/victims/firmware/Makefile.inc $1/.\n",
    "cp /home/vagrant/work/projects/chipwhisperer/hardware/victims/firmware/hal/hal.h $1/hal/.\n",
    "cp /home/vagrant/work/projects/chipwhisperer/hardware/victims/firmware/hal/Makefile.hal $1/hal/.\n",
    "cp /home/vagrant/work/projects/chipwhisperer/hardware/victims/firmware/hal/PLATFORM_INCLUDE.mk $1/hal/.\n",
    "cp /home/vagrant/work/projects/chipwhisperer/hardware/victims/firmware/crypto/Makefile.crypto $1/crypto/Makefile.crypto\n",
    "cp -r /home/vagrant/work/projects/chipwhisperer/hardware/victims/firmware/hal/$2 $1/hal/.\n",
    "cp -r /home/vagrant/work/projects/chipwhisperer/hardware/victims/firmware/simpleserial $1/.\n",
    "cp -r /home/vagrant/work/projects/chipwhisperer/hardware/victims/firmware/simpleserial-base $1/Base\n",
    "cp -r /home/vagrant/work/projects/chipwhisperer/Collect_Trace.ipynb $1/.\n",
    "ls -al $1 $1/Base"
   ]
  },
  {
   "cell_type": "markdown",
   "metadata": {},
   "source": [
    "준비가 끝났습니다. 자신의 폴더에서 프로젝트를 실행해보세요."
   ]
  }
 ],
 "metadata": {
  "kernelspec": {
   "display_name": "Python 3",
   "language": "python",
   "name": "python3"
  },
  "language_info": {
   "codemirror_mode": {
    "name": "ipython",
    "version": 3
   },
   "file_extension": ".py",
   "mimetype": "text/x-python",
   "name": "python",
   "nbconvert_exporter": "python",
   "pygments_lexer": "ipython3",
   "version": "3.7.7"
  },
  "toc": {
   "base_numbering": 1,
   "nav_menu": {},
   "number_sections": true,
   "sideBar": true,
   "skip_h1_title": false,
   "title_cell": "Table of Contents",
   "title_sidebar": "Contents",
   "toc_cell": false,
   "toc_position": {},
   "toc_section_display": true,
   "toc_window_display": false
  }
 },
 "nbformat": 4,
 "nbformat_minor": 4
}
